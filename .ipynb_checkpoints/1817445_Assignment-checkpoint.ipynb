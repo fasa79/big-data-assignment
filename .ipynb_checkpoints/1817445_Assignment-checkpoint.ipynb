{
 "cells": [
  {
   "cell_type": "markdown",
   "id": "41afda4c",
   "metadata": {},
   "source": [
    "Name: Fadhluddin bin Sahlan\n",
    "Matric No: 1817445\n",
    "Email: fadhluddinsahlan@gmail.com"
   ]
  },
  {
   "cell_type": "markdown",
   "id": "39ff3d79",
   "metadata": {},
   "source": [
    "IMPORTING LIBRARY"
   ]
  },
  {
   "cell_type": "code",
   "execution_count": 65,
   "id": "551a9d90",
   "metadata": {},
   "outputs": [],
   "source": [
    "import pandas as pd\n",
    "import numpy as np\n",
    "import copy as cp"
   ]
  },
  {
   "cell_type": "markdown",
   "id": "9b5e625f",
   "metadata": {},
   "source": [
    "# EXPLORATORY ANALYSIS"
   ]
  },
  {
   "cell_type": "markdown",
   "id": "88e6c4d3",
   "metadata": {},
   "source": [
    "IMPORT AND VIEW DATA"
   ]
  },
  {
   "cell_type": "code",
   "execution_count": 66,
   "id": "abcd1b47",
   "metadata": {
    "scrolled": true
   },
   "outputs": [
    {
     "data": {
      "text/html": [
       "<div>\n",
       "<style scoped>\n",
       "    .dataframe tbody tr th:only-of-type {\n",
       "        vertical-align: middle;\n",
       "    }\n",
       "\n",
       "    .dataframe tbody tr th {\n",
       "        vertical-align: top;\n",
       "    }\n",
       "\n",
       "    .dataframe thead th {\n",
       "        text-align: right;\n",
       "    }\n",
       "</style>\n",
       "<table border=\"1\" class=\"dataframe\">\n",
       "  <thead>\n",
       "    <tr style=\"text-align: right;\">\n",
       "      <th></th>\n",
       "      <th>school</th>\n",
       "      <th>school_setting</th>\n",
       "      <th>school_type</th>\n",
       "      <th>classroom</th>\n",
       "      <th>teaching_method</th>\n",
       "      <th>n_student</th>\n",
       "      <th>student_id</th>\n",
       "      <th>gender</th>\n",
       "      <th>lunch</th>\n",
       "      <th>pretest</th>\n",
       "      <th>posttest</th>\n",
       "    </tr>\n",
       "  </thead>\n",
       "  <tbody>\n",
       "    <tr>\n",
       "      <th>0</th>\n",
       "      <td>ANKYI</td>\n",
       "      <td>Urban</td>\n",
       "      <td>Non-public</td>\n",
       "      <td>6OL</td>\n",
       "      <td>Standard</td>\n",
       "      <td>20.0</td>\n",
       "      <td>2FHT3</td>\n",
       "      <td>Female</td>\n",
       "      <td>Does not qualify</td>\n",
       "      <td>62.0</td>\n",
       "      <td>72.0</td>\n",
       "    </tr>\n",
       "    <tr>\n",
       "      <th>1</th>\n",
       "      <td>ANKYI</td>\n",
       "      <td>Urban</td>\n",
       "      <td>Non-public</td>\n",
       "      <td>6OL</td>\n",
       "      <td>Standard</td>\n",
       "      <td>20.0</td>\n",
       "      <td>3JIVH</td>\n",
       "      <td>Female</td>\n",
       "      <td>Does not qualify</td>\n",
       "      <td>66.0</td>\n",
       "      <td>79.0</td>\n",
       "    </tr>\n",
       "    <tr>\n",
       "      <th>2</th>\n",
       "      <td>ANKYI</td>\n",
       "      <td>Urban</td>\n",
       "      <td>Non-public</td>\n",
       "      <td>6OL</td>\n",
       "      <td>Standard</td>\n",
       "      <td>20.0</td>\n",
       "      <td>3XOWE</td>\n",
       "      <td>Male</td>\n",
       "      <td>Does not qualify</td>\n",
       "      <td>64.0</td>\n",
       "      <td>76.0</td>\n",
       "    </tr>\n",
       "    <tr>\n",
       "      <th>3</th>\n",
       "      <td>ANKYI</td>\n",
       "      <td>Urban</td>\n",
       "      <td>Non-public</td>\n",
       "      <td>6OL</td>\n",
       "      <td>Standard</td>\n",
       "      <td>20.0</td>\n",
       "      <td>556O0</td>\n",
       "      <td>Female</td>\n",
       "      <td>Does not qualify</td>\n",
       "      <td>61.0</td>\n",
       "      <td>77.0</td>\n",
       "    </tr>\n",
       "    <tr>\n",
       "      <th>4</th>\n",
       "      <td>ANKYI</td>\n",
       "      <td>Urban</td>\n",
       "      <td>Non-public</td>\n",
       "      <td>6OL</td>\n",
       "      <td>Standard</td>\n",
       "      <td>20.0</td>\n",
       "      <td>74LOE</td>\n",
       "      <td>Male</td>\n",
       "      <td>Does not qualify</td>\n",
       "      <td>64.0</td>\n",
       "      <td>76.0</td>\n",
       "    </tr>\n",
       "    <tr>\n",
       "      <th>...</th>\n",
       "      <td>...</td>\n",
       "      <td>...</td>\n",
       "      <td>...</td>\n",
       "      <td>...</td>\n",
       "      <td>...</td>\n",
       "      <td>...</td>\n",
       "      <td>...</td>\n",
       "      <td>...</td>\n",
       "      <td>...</td>\n",
       "      <td>...</td>\n",
       "      <td>...</td>\n",
       "    </tr>\n",
       "    <tr>\n",
       "      <th>2128</th>\n",
       "      <td>ZOWMK</td>\n",
       "      <td>Urban</td>\n",
       "      <td>Public</td>\n",
       "      <td>ZBH</td>\n",
       "      <td>Standard</td>\n",
       "      <td>30.0</td>\n",
       "      <td>T8LSK</td>\n",
       "      <td>Female</td>\n",
       "      <td>Does not qualify</td>\n",
       "      <td>39.0</td>\n",
       "      <td>55.0</td>\n",
       "    </tr>\n",
       "    <tr>\n",
       "      <th>2129</th>\n",
       "      <td>ZOWMK</td>\n",
       "      <td>Urban</td>\n",
       "      <td>Public</td>\n",
       "      <td>ZBH</td>\n",
       "      <td>Standard</td>\n",
       "      <td>30.0</td>\n",
       "      <td>VNP26</td>\n",
       "      <td>Female</td>\n",
       "      <td>Qualifies for reduced/free lunch</td>\n",
       "      <td>38.0</td>\n",
       "      <td>46.0</td>\n",
       "    </tr>\n",
       "    <tr>\n",
       "      <th>2130</th>\n",
       "      <td>ZOWMK</td>\n",
       "      <td>Urban</td>\n",
       "      <td>Public</td>\n",
       "      <td>ZBH</td>\n",
       "      <td>Standard</td>\n",
       "      <td>30.0</td>\n",
       "      <td>YDR1Z</td>\n",
       "      <td>Female</td>\n",
       "      <td>Qualifies for reduced/free lunch</td>\n",
       "      <td>45.0</td>\n",
       "      <td>51.0</td>\n",
       "    </tr>\n",
       "    <tr>\n",
       "      <th>2131</th>\n",
       "      <td>ZOWMK</td>\n",
       "      <td>Urban</td>\n",
       "      <td>Public</td>\n",
       "      <td>ZBH</td>\n",
       "      <td>Standard</td>\n",
       "      <td>30.0</td>\n",
       "      <td>YUEIH</td>\n",
       "      <td>Male</td>\n",
       "      <td>Qualifies for reduced/free lunch</td>\n",
       "      <td>46.0</td>\n",
       "      <td>53.0</td>\n",
       "    </tr>\n",
       "    <tr>\n",
       "      <th>2132</th>\n",
       "      <td>ZOWMK</td>\n",
       "      <td>Urban</td>\n",
       "      <td>Public</td>\n",
       "      <td>ZBH</td>\n",
       "      <td>Standard</td>\n",
       "      <td>30.0</td>\n",
       "      <td>ZVCQ8</td>\n",
       "      <td>Male</td>\n",
       "      <td>Qualifies for reduced/free lunch</td>\n",
       "      <td>41.0</td>\n",
       "      <td>48.0</td>\n",
       "    </tr>\n",
       "  </tbody>\n",
       "</table>\n",
       "<p>2133 rows × 11 columns</p>\n",
       "</div>"
      ],
      "text/plain": [
       "     school school_setting school_type classroom teaching_method  n_student  \\\n",
       "0     ANKYI          Urban  Non-public       6OL        Standard       20.0   \n",
       "1     ANKYI          Urban  Non-public       6OL        Standard       20.0   \n",
       "2     ANKYI          Urban  Non-public       6OL        Standard       20.0   \n",
       "3     ANKYI          Urban  Non-public       6OL        Standard       20.0   \n",
       "4     ANKYI          Urban  Non-public       6OL        Standard       20.0   \n",
       "...     ...            ...         ...       ...             ...        ...   \n",
       "2128  ZOWMK          Urban      Public       ZBH        Standard       30.0   \n",
       "2129  ZOWMK          Urban      Public       ZBH        Standard       30.0   \n",
       "2130  ZOWMK          Urban      Public       ZBH        Standard       30.0   \n",
       "2131  ZOWMK          Urban      Public       ZBH        Standard       30.0   \n",
       "2132  ZOWMK          Urban      Public       ZBH        Standard       30.0   \n",
       "\n",
       "     student_id  gender                             lunch  pretest  posttest  \n",
       "0         2FHT3  Female                  Does not qualify     62.0      72.0  \n",
       "1         3JIVH  Female                  Does not qualify     66.0      79.0  \n",
       "2         3XOWE    Male                  Does not qualify     64.0      76.0  \n",
       "3         556O0  Female                  Does not qualify     61.0      77.0  \n",
       "4         74LOE    Male                  Does not qualify     64.0      76.0  \n",
       "...         ...     ...                               ...      ...       ...  \n",
       "2128      T8LSK  Female                  Does not qualify     39.0      55.0  \n",
       "2129      VNP26  Female  Qualifies for reduced/free lunch     38.0      46.0  \n",
       "2130      YDR1Z  Female  Qualifies for reduced/free lunch     45.0      51.0  \n",
       "2131      YUEIH    Male  Qualifies for reduced/free lunch     46.0      53.0  \n",
       "2132      ZVCQ8    Male  Qualifies for reduced/free lunch     41.0      48.0  \n",
       "\n",
       "[2133 rows x 11 columns]"
      ]
     },
     "execution_count": 66,
     "metadata": {},
     "output_type": "execute_result"
    }
   ],
   "source": [
    "dataset = pd.read_csv('test_scores.csv')\n",
    "dataset"
   ]
  },
  {
   "cell_type": "code",
   "execution_count": 67,
   "id": "4ec266ad",
   "metadata": {
    "scrolled": true
   },
   "outputs": [
    {
     "name": "stdout",
     "output_type": "stream",
     "text": [
      "<class 'pandas.core.frame.DataFrame'>\n",
      "RangeIndex: 2133 entries, 0 to 2132\n",
      "Data columns (total 11 columns):\n",
      " #   Column           Non-Null Count  Dtype  \n",
      "---  ------           --------------  -----  \n",
      " 0   school           2133 non-null   object \n",
      " 1   school_setting   2133 non-null   object \n",
      " 2   school_type      2133 non-null   object \n",
      " 3   classroom        2133 non-null   object \n",
      " 4   teaching_method  2133 non-null   object \n",
      " 5   n_student        2133 non-null   float64\n",
      " 6   student_id       2133 non-null   object \n",
      " 7   gender           2133 non-null   object \n",
      " 8   lunch            2133 non-null   object \n",
      " 9   pretest          2133 non-null   float64\n",
      " 10  posttest         2133 non-null   float64\n",
      "dtypes: float64(3), object(8)\n",
      "memory usage: 183.4+ KB\n"
     ]
    }
   ],
   "source": [
    "dataset.info()"
   ]
  },
  {
   "cell_type": "markdown",
   "id": "bad6f6ae",
   "metadata": {},
   "source": [
    "REMOVING UNNECESSARY FEATURES"
   ]
  },
  {
   "cell_type": "code",
   "execution_count": 68,
   "id": "b853c15a",
   "metadata": {},
   "outputs": [
    {
     "data": {
      "text/html": [
       "<div>\n",
       "<style scoped>\n",
       "    .dataframe tbody tr th:only-of-type {\n",
       "        vertical-align: middle;\n",
       "    }\n",
       "\n",
       "    .dataframe tbody tr th {\n",
       "        vertical-align: top;\n",
       "    }\n",
       "\n",
       "    .dataframe thead th {\n",
       "        text-align: right;\n",
       "    }\n",
       "</style>\n",
       "<table border=\"1\" class=\"dataframe\">\n",
       "  <thead>\n",
       "    <tr style=\"text-align: right;\">\n",
       "      <th></th>\n",
       "      <th>school</th>\n",
       "      <th>school_setting</th>\n",
       "      <th>school_type</th>\n",
       "      <th>teaching_method</th>\n",
       "      <th>n_student</th>\n",
       "      <th>lunch</th>\n",
       "      <th>pretest</th>\n",
       "      <th>posttest</th>\n",
       "    </tr>\n",
       "  </thead>\n",
       "  <tbody>\n",
       "    <tr>\n",
       "      <th>0</th>\n",
       "      <td>ANKYI</td>\n",
       "      <td>Urban</td>\n",
       "      <td>Non-public</td>\n",
       "      <td>Standard</td>\n",
       "      <td>20.0</td>\n",
       "      <td>Does not qualify</td>\n",
       "      <td>62.0</td>\n",
       "      <td>72.0</td>\n",
       "    </tr>\n",
       "    <tr>\n",
       "      <th>1</th>\n",
       "      <td>ANKYI</td>\n",
       "      <td>Urban</td>\n",
       "      <td>Non-public</td>\n",
       "      <td>Standard</td>\n",
       "      <td>20.0</td>\n",
       "      <td>Does not qualify</td>\n",
       "      <td>66.0</td>\n",
       "      <td>79.0</td>\n",
       "    </tr>\n",
       "    <tr>\n",
       "      <th>2</th>\n",
       "      <td>ANKYI</td>\n",
       "      <td>Urban</td>\n",
       "      <td>Non-public</td>\n",
       "      <td>Standard</td>\n",
       "      <td>20.0</td>\n",
       "      <td>Does not qualify</td>\n",
       "      <td>64.0</td>\n",
       "      <td>76.0</td>\n",
       "    </tr>\n",
       "    <tr>\n",
       "      <th>3</th>\n",
       "      <td>ANKYI</td>\n",
       "      <td>Urban</td>\n",
       "      <td>Non-public</td>\n",
       "      <td>Standard</td>\n",
       "      <td>20.0</td>\n",
       "      <td>Does not qualify</td>\n",
       "      <td>61.0</td>\n",
       "      <td>77.0</td>\n",
       "    </tr>\n",
       "    <tr>\n",
       "      <th>4</th>\n",
       "      <td>ANKYI</td>\n",
       "      <td>Urban</td>\n",
       "      <td>Non-public</td>\n",
       "      <td>Standard</td>\n",
       "      <td>20.0</td>\n",
       "      <td>Does not qualify</td>\n",
       "      <td>64.0</td>\n",
       "      <td>76.0</td>\n",
       "    </tr>\n",
       "    <tr>\n",
       "      <th>...</th>\n",
       "      <td>...</td>\n",
       "      <td>...</td>\n",
       "      <td>...</td>\n",
       "      <td>...</td>\n",
       "      <td>...</td>\n",
       "      <td>...</td>\n",
       "      <td>...</td>\n",
       "      <td>...</td>\n",
       "    </tr>\n",
       "    <tr>\n",
       "      <th>2128</th>\n",
       "      <td>ZOWMK</td>\n",
       "      <td>Urban</td>\n",
       "      <td>Public</td>\n",
       "      <td>Standard</td>\n",
       "      <td>30.0</td>\n",
       "      <td>Does not qualify</td>\n",
       "      <td>39.0</td>\n",
       "      <td>55.0</td>\n",
       "    </tr>\n",
       "    <tr>\n",
       "      <th>2129</th>\n",
       "      <td>ZOWMK</td>\n",
       "      <td>Urban</td>\n",
       "      <td>Public</td>\n",
       "      <td>Standard</td>\n",
       "      <td>30.0</td>\n",
       "      <td>Qualifies for reduced/free lunch</td>\n",
       "      <td>38.0</td>\n",
       "      <td>46.0</td>\n",
       "    </tr>\n",
       "    <tr>\n",
       "      <th>2130</th>\n",
       "      <td>ZOWMK</td>\n",
       "      <td>Urban</td>\n",
       "      <td>Public</td>\n",
       "      <td>Standard</td>\n",
       "      <td>30.0</td>\n",
       "      <td>Qualifies for reduced/free lunch</td>\n",
       "      <td>45.0</td>\n",
       "      <td>51.0</td>\n",
       "    </tr>\n",
       "    <tr>\n",
       "      <th>2131</th>\n",
       "      <td>ZOWMK</td>\n",
       "      <td>Urban</td>\n",
       "      <td>Public</td>\n",
       "      <td>Standard</td>\n",
       "      <td>30.0</td>\n",
       "      <td>Qualifies for reduced/free lunch</td>\n",
       "      <td>46.0</td>\n",
       "      <td>53.0</td>\n",
       "    </tr>\n",
       "    <tr>\n",
       "      <th>2132</th>\n",
       "      <td>ZOWMK</td>\n",
       "      <td>Urban</td>\n",
       "      <td>Public</td>\n",
       "      <td>Standard</td>\n",
       "      <td>30.0</td>\n",
       "      <td>Qualifies for reduced/free lunch</td>\n",
       "      <td>41.0</td>\n",
       "      <td>48.0</td>\n",
       "    </tr>\n",
       "  </tbody>\n",
       "</table>\n",
       "<p>2133 rows × 8 columns</p>\n",
       "</div>"
      ],
      "text/plain": [
       "     school school_setting school_type teaching_method  n_student  \\\n",
       "0     ANKYI          Urban  Non-public        Standard       20.0   \n",
       "1     ANKYI          Urban  Non-public        Standard       20.0   \n",
       "2     ANKYI          Urban  Non-public        Standard       20.0   \n",
       "3     ANKYI          Urban  Non-public        Standard       20.0   \n",
       "4     ANKYI          Urban  Non-public        Standard       20.0   \n",
       "...     ...            ...         ...             ...        ...   \n",
       "2128  ZOWMK          Urban      Public        Standard       30.0   \n",
       "2129  ZOWMK          Urban      Public        Standard       30.0   \n",
       "2130  ZOWMK          Urban      Public        Standard       30.0   \n",
       "2131  ZOWMK          Urban      Public        Standard       30.0   \n",
       "2132  ZOWMK          Urban      Public        Standard       30.0   \n",
       "\n",
       "                                 lunch  pretest  posttest  \n",
       "0                     Does not qualify     62.0      72.0  \n",
       "1                     Does not qualify     66.0      79.0  \n",
       "2                     Does not qualify     64.0      76.0  \n",
       "3                     Does not qualify     61.0      77.0  \n",
       "4                     Does not qualify     64.0      76.0  \n",
       "...                                ...      ...       ...  \n",
       "2128                  Does not qualify     39.0      55.0  \n",
       "2129  Qualifies for reduced/free lunch     38.0      46.0  \n",
       "2130  Qualifies for reduced/free lunch     45.0      51.0  \n",
       "2131  Qualifies for reduced/free lunch     46.0      53.0  \n",
       "2132  Qualifies for reduced/free lunch     41.0      48.0  \n",
       "\n",
       "[2133 rows x 8 columns]"
      ]
     },
     "execution_count": 68,
     "metadata": {},
     "output_type": "execute_result"
    }
   ],
   "source": [
    "useless_column = ['student_id', 'gender', 'classroom']\n",
    "\n",
    "for col in useless_column:\n",
    "    del dataset[col]\n",
    "    \n",
    "dataset"
   ]
  },
  {
   "cell_type": "markdown",
   "id": "86175d6c",
   "metadata": {},
   "source": [
    "CHECKING FOR EMPTY CELL IN ANY COLUMNS"
   ]
  },
  {
   "cell_type": "code",
   "execution_count": 69,
   "id": "76359d76",
   "metadata": {},
   "outputs": [
    {
     "data": {
      "text/plain": [
       "school             0\n",
       "school_setting     0\n",
       "school_type        0\n",
       "teaching_method    0\n",
       "n_student          0\n",
       "lunch              0\n",
       "pretest            0\n",
       "posttest           0\n",
       "dtype: int64"
      ]
     },
     "execution_count": 69,
     "metadata": {},
     "output_type": "execute_result"
    }
   ],
   "source": [
    "dataset.isna().sum()"
   ]
  },
  {
   "cell_type": "markdown",
   "id": "593c91c9",
   "metadata": {},
   "source": [
    "CHECK FOR ALL POSSIBLE UNIQUE VALUE IN EVERY COLUMN"
   ]
  },
  {
   "cell_type": "code",
   "execution_count": 70,
   "id": "d5a9d42e",
   "metadata": {},
   "outputs": [
    {
     "name": "stdout",
     "output_type": "stream",
     "text": [
      "school             23\n",
      "school_setting      3\n",
      "school_type         2\n",
      "teaching_method     2\n",
      "n_student          18\n",
      "lunch               2\n",
      "pretest            69\n",
      "posttest           68\n",
      "dtype: int64\n"
     ]
    }
   ],
   "source": [
    "print (dataset.apply(lambda x: x.nunique()))"
   ]
  },
  {
   "cell_type": "code",
   "execution_count": 71,
   "id": "58aafffa",
   "metadata": {
    "scrolled": true
   },
   "outputs": [
    {
     "name": "stdout",
     "output_type": "stream",
     "text": [
      "school             [ANKYI, CCAAW, CIMBB, CUQAM, DNQDD, FBUMG, GJJ...\n",
      "school_setting                              [Urban, Suburban, Rural]\n",
      "school_type                                     [Non-public, Public]\n",
      "teaching_method                             [Standard, Experimental]\n",
      "n_student          [20.0, 21.0, 18.0, 15.0, 16.0, 19.0, 17.0, 28....\n",
      "lunch              [Does not qualify, Qualifies for reduced/free ...\n",
      "pretest            [62.0, 66.0, 64.0, 61.0, 63.0, 60.0, 67.0, 57....\n",
      "posttest           [72.0, 79.0, 76.0, 77.0, 74.0, 75.0, 73.0, 78....\n",
      "dtype: object\n"
     ]
    }
   ],
   "source": [
    "print (dataset.apply(lambda x: x.unique()))"
   ]
  },
  {
   "cell_type": "markdown",
   "id": "f4c3ab30",
   "metadata": {},
   "source": [
    "# 1. DESCRIPTIVE ANALYSIS: What is the mean of pretest and posttest scores of all the students according to their school area?"
   ]
  },
  {
   "cell_type": "code",
   "execution_count": 72,
   "id": "bf356e72",
   "metadata": {},
   "outputs": [
    {
     "data": {
      "text/html": [
       "<div>\n",
       "<style scoped>\n",
       "    .dataframe tbody tr th:only-of-type {\n",
       "        vertical-align: middle;\n",
       "    }\n",
       "\n",
       "    .dataframe tbody tr th {\n",
       "        vertical-align: top;\n",
       "    }\n",
       "\n",
       "    .dataframe thead th {\n",
       "        text-align: right;\n",
       "    }\n",
       "</style>\n",
       "<table border=\"1\" class=\"dataframe\">\n",
       "  <thead>\n",
       "    <tr style=\"text-align: right;\">\n",
       "      <th></th>\n",
       "      <th>pretest</th>\n",
       "      <th>posttest</th>\n",
       "    </tr>\n",
       "    <tr>\n",
       "      <th>school_setting</th>\n",
       "      <th></th>\n",
       "      <th></th>\n",
       "    </tr>\n",
       "  </thead>\n",
       "  <tbody>\n",
       "    <tr>\n",
       "      <th>Rural</th>\n",
       "      <td>51.490196</td>\n",
       "      <td>64.050980</td>\n",
       "    </tr>\n",
       "    <tr>\n",
       "      <th>Suburban</th>\n",
       "      <td>63.841004</td>\n",
       "      <td>76.037657</td>\n",
       "    </tr>\n",
       "    <tr>\n",
       "      <th>Urban</th>\n",
       "      <td>49.875276</td>\n",
       "      <td>61.748344</td>\n",
       "    </tr>\n",
       "  </tbody>\n",
       "</table>\n",
       "</div>"
      ],
      "text/plain": [
       "                  pretest   posttest\n",
       "school_setting                      \n",
       "Rural           51.490196  64.050980\n",
       "Suburban        63.841004  76.037657\n",
       "Urban           49.875276  61.748344"
      ]
     },
     "execution_count": 72,
     "metadata": {},
     "output_type": "execute_result"
    }
   ],
   "source": [
    "target = ['pretest', 'posttest']\n",
    "gb_setting = dataset.groupby('school_setting')\n",
    "gb_setting[target].mean()"
   ]
  },
  {
   "cell_type": "markdown",
   "id": "c74d6047",
   "metadata": {},
   "source": [
    "# 2. DIAGNOSTIC ANALYSIS: What is features that most affected the pretest scores?\n",
    "# 3. DIAGNOSTIC ANALYSIS: What is features that most affected posttest scores?"
   ]
  },
  {
   "cell_type": "markdown",
   "id": "ca583d6a",
   "metadata": {},
   "source": [
    "1st Part: Numerical Variable will use pearson correlation"
   ]
  },
  {
   "cell_type": "code",
   "execution_count": 73,
   "id": "d8b865cd",
   "metadata": {},
   "outputs": [
    {
     "data": {
      "image/png": "[encoded data removed]",
      "text/plain": [
       "<Figure size 864x720 with 2 Axes>"
      ]
     },
     "metadata": {
      "needs_background": "light"
     },
     "output_type": "display_data"
    }
   ],
   "source": [
    "numerical_col = ['n_student', 'pretest', 'posttest']\n",
    "numerical = dataset[numerical_col]\n",
    "\n",
    "import matplotlib.pyplot as plt\n",
    "import seaborn as sns\n",
    "\n",
    "plt.figure(figsize=(12,10))\n",
    "cor = numerical.corr()\n",
    "sns.heatmap(cor, annot=True, cmap=plt.cm.Reds)\n",
    "\n",
    "plt.show()"
   ]
  },
  {
   "cell_type": "markdown",
   "id": "e40a8380",
   "metadata": {},
   "source": [
    "Result for Numerical Variable:\n",
    "Number of student moderately correlate to pretest and posttest while pretest highly correlate with posttest marks."
   ]
  },
  {
   "cell_type": "markdown",
   "id": "dac4624b",
   "metadata": {},
   "source": [
    "2nd Part: Categorical features - numerical target will use kendall"
   ]
  },
  {
   "cell_type": "markdown",
   "id": "031e62f8",
   "metadata": {},
   "source": [
    "Transforming categorical data"
   ]
  },
  {
   "cell_type": "code",
   "execution_count": 74,
   "id": "85018be0",
   "metadata": {},
   "outputs": [
    {
     "data": {
      "text/html": [
       "<div>\n",
       "<style scoped>\n",
       "    .dataframe tbody tr th:only-of-type {\n",
       "        vertical-align: middle;\n",
       "    }\n",
       "\n",
       "    .dataframe tbody tr th {\n",
       "        vertical-align: top;\n",
       "    }\n",
       "\n",
       "    .dataframe thead th {\n",
       "        text-align: right;\n",
       "    }\n",
       "</style>\n",
       "<table border=\"1\" class=\"dataframe\">\n",
       "  <thead>\n",
       "    <tr style=\"text-align: right;\">\n",
       "      <th></th>\n",
       "      <th>school</th>\n",
       "      <th>school_setting</th>\n",
       "      <th>school_type</th>\n",
       "      <th>teaching_method</th>\n",
       "      <th>n_student</th>\n",
       "      <th>lunch</th>\n",
       "      <th>pretest</th>\n",
       "      <th>posttest</th>\n",
       "    </tr>\n",
       "  </thead>\n",
       "  <tbody>\n",
       "    <tr>\n",
       "      <th>0</th>\n",
       "      <td>0</td>\n",
       "      <td>2</td>\n",
       "      <td>0</td>\n",
       "      <td>1</td>\n",
       "      <td>20.0</td>\n",
       "      <td>0</td>\n",
       "      <td>62.0</td>\n",
       "      <td>72.0</td>\n",
       "    </tr>\n",
       "    <tr>\n",
       "      <th>1</th>\n",
       "      <td>0</td>\n",
       "      <td>2</td>\n",
       "      <td>0</td>\n",
       "      <td>1</td>\n",
       "      <td>20.0</td>\n",
       "      <td>0</td>\n",
       "      <td>66.0</td>\n",
       "      <td>79.0</td>\n",
       "    </tr>\n",
       "    <tr>\n",
       "      <th>2</th>\n",
       "      <td>0</td>\n",
       "      <td>2</td>\n",
       "      <td>0</td>\n",
       "      <td>1</td>\n",
       "      <td>20.0</td>\n",
       "      <td>0</td>\n",
       "      <td>64.0</td>\n",
       "      <td>76.0</td>\n",
       "    </tr>\n",
       "    <tr>\n",
       "      <th>3</th>\n",
       "      <td>0</td>\n",
       "      <td>2</td>\n",
       "      <td>0</td>\n",
       "      <td>1</td>\n",
       "      <td>20.0</td>\n",
       "      <td>0</td>\n",
       "      <td>61.0</td>\n",
       "      <td>77.0</td>\n",
       "    </tr>\n",
       "    <tr>\n",
       "      <th>4</th>\n",
       "      <td>0</td>\n",
       "      <td>2</td>\n",
       "      <td>0</td>\n",
       "      <td>1</td>\n",
       "      <td>20.0</td>\n",
       "      <td>0</td>\n",
       "      <td>64.0</td>\n",
       "      <td>76.0</td>\n",
       "    </tr>\n",
       "    <tr>\n",
       "      <th>...</th>\n",
       "      <td>...</td>\n",
       "      <td>...</td>\n",
       "      <td>...</td>\n",
       "      <td>...</td>\n",
       "      <td>...</td>\n",
       "      <td>...</td>\n",
       "      <td>...</td>\n",
       "      <td>...</td>\n",
       "    </tr>\n",
       "    <tr>\n",
       "      <th>2128</th>\n",
       "      <td>22</td>\n",
       "      <td>2</td>\n",
       "      <td>1</td>\n",
       "      <td>1</td>\n",
       "      <td>30.0</td>\n",
       "      <td>0</td>\n",
       "      <td>39.0</td>\n",
       "      <td>55.0</td>\n",
       "    </tr>\n",
       "    <tr>\n",
       "      <th>2129</th>\n",
       "      <td>22</td>\n",
       "      <td>2</td>\n",
       "      <td>1</td>\n",
       "      <td>1</td>\n",
       "      <td>30.0</td>\n",
       "      <td>1</td>\n",
       "      <td>38.0</td>\n",
       "      <td>46.0</td>\n",
       "    </tr>\n",
       "    <tr>\n",
       "      <th>2130</th>\n",
       "      <td>22</td>\n",
       "      <td>2</td>\n",
       "      <td>1</td>\n",
       "      <td>1</td>\n",
       "      <td>30.0</td>\n",
       "      <td>1</td>\n",
       "      <td>45.0</td>\n",
       "      <td>51.0</td>\n",
       "    </tr>\n",
       "    <tr>\n",
       "      <th>2131</th>\n",
       "      <td>22</td>\n",
       "      <td>2</td>\n",
       "      <td>1</td>\n",
       "      <td>1</td>\n",
       "      <td>30.0</td>\n",
       "      <td>1</td>\n",
       "      <td>46.0</td>\n",
       "      <td>53.0</td>\n",
       "    </tr>\n",
       "    <tr>\n",
       "      <th>2132</th>\n",
       "      <td>22</td>\n",
       "      <td>2</td>\n",
       "      <td>1</td>\n",
       "      <td>1</td>\n",
       "      <td>30.0</td>\n",
       "      <td>1</td>\n",
       "      <td>41.0</td>\n",
       "      <td>48.0</td>\n",
       "    </tr>\n",
       "  </tbody>\n",
       "</table>\n",
       "<p>2133 rows × 8 columns</p>\n",
       "</div>"
      ],
      "text/plain": [
       "      school  school_setting  school_type  teaching_method  n_student  lunch  \\\n",
       "0          0               2            0                1       20.0      0   \n",
       "1          0               2            0                1       20.0      0   \n",
       "2          0               2            0                1       20.0      0   \n",
       "3          0               2            0                1       20.0      0   \n",
       "4          0               2            0                1       20.0      0   \n",
       "...      ...             ...          ...              ...        ...    ...   \n",
       "2128      22               2            1                1       30.0      0   \n",
       "2129      22               2            1                1       30.0      1   \n",
       "2130      22               2            1                1       30.0      1   \n",
       "2131      22               2            1                1       30.0      1   \n",
       "2132      22               2            1                1       30.0      1   \n",
       "\n",
       "      pretest  posttest  \n",
       "0        62.0      72.0  \n",
       "1        66.0      79.0  \n",
       "2        64.0      76.0  \n",
       "3        61.0      77.0  \n",
       "4        64.0      76.0  \n",
       "...       ...       ...  \n",
       "2128     39.0      55.0  \n",
       "2129     38.0      46.0  \n",
       "2130     45.0      51.0  \n",
       "2131     46.0      53.0  \n",
       "2132     41.0      48.0  \n",
       "\n",
       "[2133 rows x 8 columns]"
      ]
     },
     "execution_count": 74,
     "metadata": {},
     "output_type": "execute_result"
    }
   ],
   "source": [
    "catego_col = ['school', 'school_setting', 'school_type', 'teaching_method', 'lunch']\n",
    "\n",
    "from sklearn.preprocessing import LabelEncoder\n",
    "lb_enc = LabelEncoder()\n",
    "\n",
    "trans_data = cp.deepcopy(dataset)\n",
    "\n",
    "for col in catego_col:\n",
    "    trans_data[col] = lb_enc.fit_transform(trans_data[col])\n",
    "\n",
    "trans_data"
   ]
  },
  {
   "cell_type": "markdown",
   "id": "c6b110ba",
   "metadata": {},
   "source": [
    "Performing Kendall"
   ]
  },
  {
   "cell_type": "code",
   "execution_count": 75,
   "id": "06d598be",
   "metadata": {},
   "outputs": [
    {
     "data": {
      "text/html": [
       "<div>\n",
       "<style scoped>\n",
       "    .dataframe tbody tr th:only-of-type {\n",
       "        vertical-align: middle;\n",
       "    }\n",
       "\n",
       "    .dataframe tbody tr th {\n",
       "        vertical-align: top;\n",
       "    }\n",
       "\n",
       "    .dataframe thead th {\n",
       "        text-align: right;\n",
       "    }\n",
       "</style>\n",
       "<table border=\"1\" class=\"dataframe\">\n",
       "  <thead>\n",
       "    <tr style=\"text-align: right;\">\n",
       "      <th></th>\n",
       "      <th>school</th>\n",
       "      <th>school_setting</th>\n",
       "      <th>school_type</th>\n",
       "      <th>teaching_method</th>\n",
       "      <th>lunch</th>\n",
       "      <th>pretest</th>\n",
       "      <th>posttest</th>\n",
       "    </tr>\n",
       "  </thead>\n",
       "  <tbody>\n",
       "    <tr>\n",
       "      <th>school</th>\n",
       "      <td>1.000000</td>\n",
       "      <td>NaN</td>\n",
       "      <td>0.265986</td>\n",
       "      <td>NaN</td>\n",
       "      <td>NaN</td>\n",
       "      <td>NaN</td>\n",
       "      <td>NaN</td>\n",
       "    </tr>\n",
       "    <tr>\n",
       "      <th>school_setting</th>\n",
       "      <td>NaN</td>\n",
       "      <td>1.000000</td>\n",
       "      <td>NaN</td>\n",
       "      <td>NaN</td>\n",
       "      <td>NaN</td>\n",
       "      <td>-0.123227</td>\n",
       "      <td>-0.144992</td>\n",
       "    </tr>\n",
       "    <tr>\n",
       "      <th>school_type</th>\n",
       "      <td>0.265986</td>\n",
       "      <td>NaN</td>\n",
       "      <td>1.000000</td>\n",
       "      <td>0.153593</td>\n",
       "      <td>0.171196</td>\n",
       "      <td>-0.318351</td>\n",
       "      <td>-0.326740</td>\n",
       "    </tr>\n",
       "    <tr>\n",
       "      <th>teaching_method</th>\n",
       "      <td>NaN</td>\n",
       "      <td>NaN</td>\n",
       "      <td>0.153593</td>\n",
       "      <td>1.000000</td>\n",
       "      <td>NaN</td>\n",
       "      <td>-0.106081</td>\n",
       "      <td>-0.257820</td>\n",
       "    </tr>\n",
       "    <tr>\n",
       "      <th>lunch</th>\n",
       "      <td>NaN</td>\n",
       "      <td>NaN</td>\n",
       "      <td>0.171196</td>\n",
       "      <td>NaN</td>\n",
       "      <td>1.000000</td>\n",
       "      <td>-0.519172</td>\n",
       "      <td>-0.496098</td>\n",
       "    </tr>\n",
       "    <tr>\n",
       "      <th>pretest</th>\n",
       "      <td>NaN</td>\n",
       "      <td>-0.123227</td>\n",
       "      <td>-0.318351</td>\n",
       "      <td>-0.106081</td>\n",
       "      <td>-0.519172</td>\n",
       "      <td>1.000000</td>\n",
       "      <td>0.821832</td>\n",
       "    </tr>\n",
       "    <tr>\n",
       "      <th>posttest</th>\n",
       "      <td>NaN</td>\n",
       "      <td>-0.144992</td>\n",
       "      <td>-0.326740</td>\n",
       "      <td>-0.257820</td>\n",
       "      <td>-0.496098</td>\n",
       "      <td>0.821832</td>\n",
       "      <td>1.000000</td>\n",
       "    </tr>\n",
       "  </tbody>\n",
       "</table>\n",
       "</div>"
      ],
      "text/plain": [
       "                   school  school_setting  school_type  teaching_method  \\\n",
       "school           1.000000             NaN     0.265986              NaN   \n",
       "school_setting        NaN        1.000000          NaN              NaN   \n",
       "school_type      0.265986             NaN     1.000000         0.153593   \n",
       "teaching_method       NaN             NaN     0.153593         1.000000   \n",
       "lunch                 NaN             NaN     0.171196              NaN   \n",
       "pretest               NaN       -0.123227    -0.318351        -0.106081   \n",
       "posttest              NaN       -0.144992    -0.326740        -0.257820   \n",
       "\n",
       "                    lunch   pretest  posttest  \n",
       "school                NaN       NaN       NaN  \n",
       "school_setting        NaN -0.123227 -0.144992  \n",
       "school_type      0.171196 -0.318351 -0.326740  \n",
       "teaching_method       NaN -0.106081 -0.257820  \n",
       "lunch            1.000000 -0.519172 -0.496098  \n",
       "pretest         -0.519172  1.000000  0.821832  \n",
       "posttest        -0.496098  0.821832  1.000000  "
      ]
     },
     "execution_count": 75,
     "metadata": {},
     "output_type": "execute_result"
    }
   ],
   "source": [
    "catego_col = ['school', 'school_setting', 'school_type', 'teaching_method', 'lunch', 'pretest', 'posttest']\n",
    "\n",
    "catego = trans_data[catego_col]\n",
    "\n",
    "kendalls = catego.corr(method = 'kendall')\n",
    "relevant_features = kendalls[abs(kendalls)>0.1]\n",
    "\n",
    "relevant_features"
   ]
  },
  {
   "cell_type": "markdown",
   "id": "9cb1fe29",
   "metadata": {},
   "source": [
    "Result for Categorical Variables:\n",
    "school_setting, school_type, teaching_method, lunch are the variables that can be considered correlate to both pretest and posttest target variable. lunch is the categorical variable that are most correlate to both pretest and posttest. While school variable less correlate to both pretest and posttest target variable."
   ]
  },
  {
   "cell_type": "markdown",
   "id": "b7e54e88",
   "metadata": {},
   "source": [
    "# 4. PREDICTIVE ANALYSIS: Predicting pretest scores given school_setting, school_type, teaching_method and lunch as independent variable."
   ]
  },
  {
   "cell_type": "markdown",
   "id": "4666ebb1",
   "metadata": {},
   "source": [
    "PREPARING DATA"
   ]
  },
  {
   "cell_type": "code",
   "execution_count": 76,
   "id": "fd3ef60b",
   "metadata": {},
   "outputs": [],
   "source": [
    "traintest1 = cp.deepcopy(trans_data)\n",
    "traintest1 = traintest1.drop('school', axis = 1)\n",
    "traintest1 = traintest1.drop('posttest', axis = 1)\n",
    "\n",
    "label = np.array(traintest1['pretest'])\n",
    "\n",
    "traintest1 = traintest1.drop('pretest', axis = 1)\n",
    "\n",
    "features = list(traintest1.columns)\n",
    "\n",
    "traintest1 = np.array(traintest1)"
   ]
  },
  {
   "cell_type": "markdown",
   "id": "d921771f",
   "metadata": {},
   "source": [
    "SPLITTING DATA INTO TRAINING AND TESTING DATA"
   ]
  },
  {
   "cell_type": "code",
   "execution_count": 77,
   "id": "915668cf",
   "metadata": {},
   "outputs": [
    {
     "name": "stdout",
     "output_type": "stream",
     "text": [
      "Training Features Shape: (1599, 5)\n",
      "Training Labels Shape: (1599,)\n",
      "Testing Features Shape: (534, 5)\n",
      "Testing Labels Shape: (534,)\n"
     ]
    }
   ],
   "source": [
    "from sklearn.model_selection import train_test_split\n",
    "\n",
    "train, test, train_labels, test_labels = train_test_split(traintest1, label, test_size = 0.25, random_state = 79)\n",
    "\n",
    "print('Training Features Shape:', train.shape)\n",
    "print('Training Labels Shape:', train_labels.shape)\n",
    "print('Testing Features Shape:', test.shape)\n",
    "print('Testing Labels Shape:', test_labels.shape)"
   ]
  },
  {
   "cell_type": "markdown",
   "id": "8f54f4b8",
   "metadata": {},
   "source": [
    "TRAIN THE DATA"
   ]
  },
  {
   "cell_type": "code",
   "execution_count": 78,
   "id": "5bec478a",
   "metadata": {},
   "outputs": [
    {
     "data": {
      "text/plain": [
       "RandomForestRegressor(n_estimators=1000, random_state=79)"
      ]
     },
     "execution_count": 78,
     "metadata": {},
     "output_type": "execute_result"
    }
   ],
   "source": [
    "from sklearn.ensemble import RandomForestRegressor\n",
    "\n",
    "rf1 = RandomForestRegressor(n_estimators = 1000, random_state = 79)\n",
    "\n",
    "rf1.fit(train, train_labels)"
   ]
  },
  {
   "cell_type": "markdown",
   "id": "42b29aa0",
   "metadata": {},
   "source": [
    "TEST THE DATA"
   ]
  },
  {
   "cell_type": "code",
   "execution_count": 79,
   "id": "4bbe1ee9",
   "metadata": {},
   "outputs": [
    {
     "name": "stdout",
     "output_type": "stream",
     "text": [
      "Accuracy: 92.17 %.\n"
     ]
    }
   ],
   "source": [
    "predictions = rf1.predict(test)\n",
    "\n",
    "errors = abs(predictions - test_labels)\n",
    "\n",
    "accuracy = 100 - np.mean(100 * (errors / test_labels))\n",
    "\n",
    "print('Accuracy:', round(accuracy, 2), '%.')"
   ]
  },
  {
   "cell_type": "markdown",
   "id": "892bda59",
   "metadata": {},
   "source": [
    "# PREDICTIVE ANALYSIS: Predicting posttest scores based on school_setting, school_type, teaching_method, lunch and pretest scores as independent variable."
   ]
  },
  {
   "cell_type": "markdown",
   "id": "4de22fdb",
   "metadata": {},
   "source": [
    "PREPARING THE DATA"
   ]
  },
  {
   "cell_type": "code",
   "execution_count": 80,
   "id": "fec41e98",
   "metadata": {},
   "outputs": [],
   "source": [
    "traintest2 = cp.deepcopy(trans_data)\n",
    "traintest2 = traintest2.drop('school', axis = 1)\n",
    "\n",
    "label2 = np.array(traintest2['posttest'])\n",
    "\n",
    "traintest2 = traintest2.drop('posttest', axis = 1)\n",
    "\n",
    "features2 = list(traintest2.columns)\n",
    "\n",
    "traintest2 = np.array(traintest2)"
   ]
  },
  {
   "cell_type": "markdown",
   "id": "4a6bed37",
   "metadata": {},
   "source": [
    "SPLITTING DATA"
   ]
  },
  {
   "cell_type": "code",
   "execution_count": 81,
   "id": "e7f51f81",
   "metadata": {},
   "outputs": [
    {
     "name": "stdout",
     "output_type": "stream",
     "text": [
      "Training Features Shape: (1599, 6)\n",
      "Training Labels Shape: (1599,)\n",
      "Testing Features Shape: (534, 6)\n",
      "Testing Labels Shape: (534,)\n"
     ]
    }
   ],
   "source": [
    "from sklearn.model_selection import train_test_split\n",
    "\n",
    "train2, test2, train_labels2, test_labels2 = train_test_split(traintest2, label2, test_size = 0.25, random_state = 79)\n",
    "\n",
    "print('Training Features Shape:', train2.shape)\n",
    "print('Training Labels Shape:', train_labels2.shape)\n",
    "print('Testing Features Shape:', test2.shape)\n",
    "print('Testing Labels Shape:', test_labels2.shape)"
   ]
  },
  {
   "cell_type": "markdown",
   "id": "b992ed90",
   "metadata": {},
   "source": [
    "TRAIN DATA"
   ]
  },
  {
   "cell_type": "code",
   "execution_count": 82,
   "id": "a005f00d",
   "metadata": {},
   "outputs": [
    {
     "data": {
      "text/plain": [
       "RandomForestRegressor(n_estimators=1000, random_state=79)"
      ]
     },
     "execution_count": 82,
     "metadata": {},
     "output_type": "execute_result"
    }
   ],
   "source": [
    "from sklearn.ensemble import RandomForestRegressor\n",
    "\n",
    "rf2 = RandomForestRegressor(n_estimators = 1000, random_state = 79)\n",
    "\n",
    "rf2.fit(train2, train_labels2)"
   ]
  },
  {
   "cell_type": "markdown",
   "id": "9fd20553",
   "metadata": {},
   "source": [
    "TEST DATA"
   ]
  },
  {
   "cell_type": "code",
   "execution_count": 83,
   "id": "babcf23a",
   "metadata": {},
   "outputs": [
    {
     "name": "stdout",
     "output_type": "stream",
     "text": [
      "Accuracy: 95.73 %.\n"
     ]
    }
   ],
   "source": [
    "predictions = rf2.predict(test2)\n",
    "\n",
    "errors = abs(predictions - test_labels2)\n",
    "\n",
    "accuracy = 100 - np.mean(100 * (errors / test_labels2))\n",
    "\n",
    "print('Accuracy:', round(accuracy, 2), '%.')"
   ]
  },
  {
   "cell_type": "markdown",
   "id": "0790489c",
   "metadata": {},
   "source": [
    "REFERENCES:\n",
    "1. Dataset - https://www.kaggle.com/kwadwoofosu/predict-test-scores-of-students\n",
    "2. https://azizha-zeinita.medium.com/steps-before-machine-learning-data-encoding-and-feature-selection-with-python-c4ad6eae52e\n",
    "3. https://towardsdatascience.com/random-forest-in-python-24d0893d51c0"
   ]
  }
 ],
 "metadata": {
  "kernelspec": {
   "display_name": "Python 3",
   "language": "python",
   "name": "python3"
  },
  "language_info": {
   "codemirror_mode": {
    "name": "ipython",
    "version": 3
   },
   "file_extension": ".py",
   "mimetype": "text/x-python",
   "name": "python",
   "nbconvert_exporter": "python",
   "pygments_lexer": "ipython3",
   "version": "3.8.8"
  }
 },
 "nbformat": 4,
 "nbformat_minor": 5
}
